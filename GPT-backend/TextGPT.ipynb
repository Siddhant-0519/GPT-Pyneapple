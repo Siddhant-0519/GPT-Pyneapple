{
 "cells": [
  {
   "attachments": {},
   "cell_type": "markdown",
   "metadata": {},
   "source": [
    "### Necessary Imports and SET openAI API keys\n",
    "Currently using free API key set in system environment variables\n"
   ]
  },
  {
   "cell_type": "code",
   "execution_count": 1,
   "metadata": {},
   "outputs": [],
   "source": [
    "import json\n",
    "import openai\n",
    "import os\n",
    "from dotenv import load_dotenv\n",
    "import requests\n",
    "import geopandas as gpd\n",
    "import jpype\n",
    "import json \n",
    "\n",
    "openai.api_key = os.getenv('OPENAI_API_KEY')\n",
    "# print(openai.api_key)"
   ]
  },
  {
   "cell_type": "code",
   "execution_count": null,
   "metadata": {},
   "outputs": [],
   "source": []
  },
  {
   "cell_type": "code",
   "execution_count": 2,
   "metadata": {},
   "outputs": [],
   "source": [
    "function_descriptions = [\n",
    "            {\n",
    "                \"name\": \"emp\",\n",
    "                \"description\": \"Clustering a set of geographic areas into the maximum number of homogeneous regions that satisfies a set of user defined constraints\",\n",
    "                \"parameters\": {\n",
    "                    \"type\": \"object\",\n",
    "                    \"properties\": {\n",
    "                        \"location\": {\n",
    "                            \"type\": \"string\",\n",
    "                            \"description\": \"The city and state, e.g. San Francisco, CA\",\n",
    "                        },\n",
    "                        \"sumName\": {\n",
    "                            \"type\": \"string\",\n",
    "                            \"description\": \"The name of the spatial extensive attribute variable for the SUM constraint\",\n",
    "                            #\"enum\": [\"pop2010\", \"pop_16up\"]\n",
    "                        },\n",
    "                        \"sumLow\":{\n",
    "                            \"type\": \"integer\",\n",
    "                            \"descripition\": \"The lowerbound for the SUM range\"\n",
    "                        },\n",
    "                        \"sumHigh\":{\n",
    "                            \"type\": \"integer\",\n",
    "                            \"descripition\": \"The upperbound for the SUM range\"\n",
    "                        },\n",
    "                        \"disname\":{\n",
    "                            \"type\": \"string\",\n",
    "                            \"descripition\": \"The dissimlarity attribute\"\n",
    "                        },\n",
    "                    },\n",
    "                    \"required\": [\"location\", \"sumName\",\"sumLow\",\"sumHigh\",\"disname\"],\n",
    "                },\n",
    "            }\n",
    "        ]"
   ]
  },
  {
   "cell_type": "code",
   "execution_count": 3,
   "metadata": {},
   "outputs": [
    {
     "name": "stdout",
     "output_type": "stream",
     "text": [
      "User query sent successfully\n"
     ]
    }
   ],
   "source": [
    "## Frontend user query input simulation\n",
    "\n",
    "url = 'http://127.0.0.1:8000/user_query'\n",
    "params = {\n",
    "    'user_query': 'Get me the regions of census tracts in Los Angeles whose minimum total population is between 30,000 to 50,000 with a dissimilarity on households'\n",
    "}\n",
    "headers = {\n",
    "    'accept': 'application/json'\n",
    "}\n",
    "\n",
    "response = requests.get(url, params=params, headers=headers)\n",
    "\n",
    "if response.status_code == 200:\n",
    "    print(\"User query sent successfully\")\n",
    "else:\n",
    "    print('Request failed with status code:', response.status_code)"
   ]
  },
  {
   "cell_type": "code",
   "execution_count": 4,
   "metadata": {},
   "outputs": [
    {
     "name": "stdout",
     "output_type": "stream",
     "text": [
      "\"Get me the regions of census tracts in Los Angeles whose minimum total population is between 30,000 to 50,000 with a dissimilarity of households\"\n"
     ]
    }
   ],
   "source": [
    "# user_query = \"Get me the regions of census tracts in Los Angeles whose minimum total population is between 30,000 to 50,000 with a dissimilarity of households\"\n",
    "endpoint = \"http://localhost:8000/gpt_user_query\"\n",
    "user_query = requests.get(endpoint).text\n",
    "print(user_query)\n",
    "#print(type(user_query))\n"
   ]
  },
  {
   "cell_type": "code",
   "execution_count": 5,
   "metadata": {},
   "outputs": [],
   "source": [
    "def read_shapefile(data_dir,  filename):\n",
    "    file_path = os.path.join(data_dir, filename)\n",
    "    gdf = gpd.read_file(file_path)\n",
    "    return gdf\n"
   ]
  },
  {
   "cell_type": "code",
   "execution_count": 6,
   "metadata": {},
   "outputs": [
    {
     "name": "stdout",
     "output_type": "stream",
     "text": [
      "['fid' 'OBJECTID' 'TRACTCE10' 'POP' 'LATPOP_D' 'WHIPOP_D' 'BLAPOP_D'\n",
      " 'AMIPOP_D' 'ASIPOP_D' 'HPIPOP_D' 'OTHPOP_D' 'MMRPOP_D' 'VAP' 'LATVAP_D'\n",
      " 'WHIVAP_D' 'BLAVAP_D' 'AMIVAP_D' 'ASIVAP_D' 'HPIVAP_D' 'OTHVAP_D'\n",
      " 'MMRVAP_D' 'H0010001' 'H0010002' 'H0010003' 'TOOLTIP' 'NLA_URL'\n",
      " 'STATEFP10' 'COUNTYFP10' 'TRACTCE10_' 'GEOID10' 'NAME10' 'NAMELSAD10'\n",
      " 'MTFCC10' 'FUNCSTAT10' 'ALAND10' 'AWATER10' 'INTPTLAT10' 'INTPTLON10'\n",
      " 'Tot_Pop' 'One_Race' 'White' 'Afro_Amer' 'Native' 'Asian' 'Pac_Isl'\n",
      " 'Other_Race' 'Two_Or_Mor' 'Hispanic' 'Not_Hisp' 'Hisp_One_R' 'Hisp_White'\n",
      " 'Hisp_Afro_' 'Hisp_Nativ' 'Hisp_Asian' 'Hisp_Pac_I' 'Other' 'Hisp_Two_O'\n",
      " 'Tot_Housin' 'Occup_Hous' 'Vac_Housin' 'GEO.id' 'pop2010' 'households'\n",
      " 'pop_16up' 'employed' 'unemployed' 'geometry']\n"
     ]
    }
   ],
   "source": [
    "data_dir = \"D:/user_pa1n/VSCode/projects/GPT-Pyneapple/testData\"\n",
    "filename = \"LACity.shp\"\n",
    "df = read_shapefile(data_dir,filename)\n",
    "print(df.columns.values)\n"
   ]
  },
  {
   "cell_type": "code",
   "execution_count": 7,
   "metadata": {},
   "outputs": [],
   "source": [
    "df_context = str(df.columns.values)\n",
    "# print(df_context)\n"
   ]
  },
  {
   "cell_type": "code",
   "execution_count": 8,
   "metadata": {},
   "outputs": [],
   "source": [
    "chat_history = []\n",
    "#{\"role\": \"\", \"content\": \"\"}"
   ]
  },
  {
   "cell_type": "code",
   "execution_count": 9,
   "metadata": {},
   "outputs": [
    {
     "name": "stdout",
     "output_type": "stream",
     "text": [
      "3\n"
     ]
    }
   ],
   "source": [
    "chat_history.append({\"role\": \"system\",\"content\": \"You are a helpful assistant\"})\n",
    "chat_history.append({\"role\": \"user\",\"content\": \"Based on the name  of the columns of the  dataframe help select appropiate column as paramters for functions based on the user query\"})\n",
    "chat_history.append({\"role\": \"user\", \"content\": \"The contents of the dataframe are : \"+ df_context})\n",
    "print(len(chat_history))\n"
   ]
  },
  {
   "cell_type": "code",
   "execution_count": 10,
   "metadata": {},
   "outputs": [
    {
     "name": "stdout",
     "output_type": "stream",
     "text": [
      "{\n",
      "  \"role\": \"assistant\",\n",
      "  \"content\": \"Based on the names of the columns in the dataframe, here are some suggestions for selecting appropriate columns as parameters for functions based on user queries:\\n\\n- 'POP': This column represents the total population.\\n- 'WHIPOP_D': This column represents the population of White people.\\n- 'BLAPOP_D': This column represents the population of African Americans.\\n- 'ASIPOP_D': This column represents the population of Asians.\\n- 'H0010001': This column represents a specific category related to housing.\\n- 'pop2010': This column represents the population count for the year 2010.\\n\\nThese are just a few examples, but you can select any column based on your specific requirements and the nature of the function you are using.\"\n",
      "}\n"
     ]
    }
   ],
   "source": [
    "Initialresponse = openai.ChatCompletion.create(\n",
    "        model=\"gpt-3.5-turbo-0613\",\n",
    "        \n",
    "        # This is the chat message from the user\n",
    "        messages= chat_history\n",
    "\n",
    "    )\n",
    "print(Initialresponse[\"choices\"][0][\"message\"])"
   ]
  },
  {
   "cell_type": "code",
   "execution_count": 11,
   "metadata": {},
   "outputs": [
    {
     "name": "stdout",
     "output_type": "stream",
     "text": [
      "4\n"
     ]
    }
   ],
   "source": [
    "chat_history.append(Initialresponse[\"choices\"][0][\"message\"])\n",
    "print(len(chat_history))"
   ]
  },
  {
   "cell_type": "code",
   "execution_count": 12,
   "metadata": {},
   "outputs": [],
   "source": [
    "response = openai.ChatCompletion.create(\n",
    "        model=\"gpt-3.5-turbo-0613\",\n",
    "        \n",
    "        # This is the chat message from the user\n",
    "        messages= chat_history + [{\"role\": \"user\", \"content\": \"Given the user query : \" + user_query + \"respond with the function call. Make sure the arguments are exactly the same as dataframe contents. Convert any integer value to a double in the arguments\"}],\n",
    "    \n",
    "        \n",
    "        functions=function_descriptions,\n",
    "        function_call=\"auto\",\n",
    "    )"
   ]
  },
  {
   "cell_type": "code",
   "execution_count": 13,
   "metadata": {},
   "outputs": [
    {
     "name": "stdout",
     "output_type": "stream",
     "text": [
      "{\n",
      "  \"role\": \"assistant\",\n",
      "  \"content\": null,\n",
      "  \"function_call\": {\n",
      "    \"name\": \"emp\",\n",
      "    \"arguments\": \"{\\n  \\\"location\\\": \\\"Los Angeles, CA\\\",\\n  \\\"sumName\\\": \\\"POP\\\",\\n  \\\"sumLow\\\": 30000.0,\\n  \\\"sumHigh\\\": 50000.0,\\n  \\\"disname\\\": \\\"households\\\"\\n}\"\n",
      "  }\n",
      "}\n"
     ]
    }
   ],
   "source": [
    "ai_response_message = response[\"choices\"][0][\"message\"]\n",
    "print(ai_response_message)"
   ]
  },
  {
   "cell_type": "code",
   "execution_count": 14,
   "metadata": {},
   "outputs": [
    {
     "name": "stdout",
     "output_type": "stream",
     "text": [
      "Funtion to be called is:  emp\n",
      "Dataset to be used is:  Los Angeles, CA\n"
     ]
    }
   ],
   "source": [
    "callingFunction = ai_response_message['function_call']['name']\n",
    "dataset = eval(ai_response_message['function_call']['arguments']).get(\"location\")\n",
    "print(\"Funtion to be called is: \",callingFunction)\n",
    "print(\"Dataset to be used is: \",dataset)"
   ]
  },
  {
   "cell_type": "code",
   "execution_count": 15,
   "metadata": {},
   "outputs": [
    {
     "name": "stdout",
     "output_type": "stream",
     "text": [
      "{'location': 'Los Angeles, CA', 'sumName': 'POP', 'sumLow': 30000.0, 'sumHigh': 50000.0, 'disname': 'households', 'callingFuntion': 'emp'}\n"
     ]
    }
   ],
   "source": [
    "parameters = json.loads(ai_response_message[\"function_call\"][\"arguments\"])\n",
    "parameters['callingFuntion'] = callingFunction\n",
    "#parameters = json.dumps(parameters)\n",
    "print(parameters)"
   ]
  },
  {
   "cell_type": "code",
   "execution_count": null,
   "metadata": {},
   "outputs": [],
   "source": []
  },
  {
   "cell_type": "code",
   "execution_count": 30,
   "metadata": {},
   "outputs": [],
   "source": [
    "# def get_test_response(location):\n",
    "\n",
    "#     test_response = {\n",
    "#         \"location\" : location,\n",
    "#         \"max_p\": '135',\n",
    "#         \"labels\": \"[101,19,101,19,101,101,19,101,101,19,19,19,19,104,19,13,13,19,13,13,23,23,13,13,37,154,154,154,154,154,13,19,19,19,154,154,25,25,25,23,23,23,23,32,25,25,23,26,32,26,32,26,29,26,29,29,32,32,32,32,33,33,33,26,26,36,37,41,41,37,37,154,37,37,41,37,41,29,29,33,68,33,29,71,41,36,36,36,61,36,56,56,56,196,56,61,33,61,61,61,62,196,196,71,71,71,68,68,68,62,71,71,68,83,83,37,143,143,143,143,143,37,84,143,83,84,84,85,154,154,83,83,83,83,83,154,84,85,154,87,84,87,87,84,87,84,87,87,84,87,154,105,105,19,104,154,105,105,85,104,105,104,85,101,101,101,101,104,118,101,101,118,117,104,118,118,118,105,85,115,110,110,110,110,110,125,115,115,118,115,125,117,118,118,117,117,117,117,117,110,125,125,125,125,125,115,248,248,128,128,128,248,248,248,136,154,154,136,136,141,141,143,141,141,179,179,179,151,151,151,151,151,136,154,154,151,162,125,179,151,179,162,162,125,162,242,162,242,68,170,141,173,173,173,62,184,184,170,173,179,179,141,173,170,184,184,170,226,184,184,194,194,62,204,204,196,56,194,194,56,196,199,199,199,199,194,194,196,204,184,204,204,209,204,209,194,209,209,209,217,217,199,218,209,218,217,217,218,218,599,218,599,218,179,226,209,226,226,226,599,226,233,233,233,233,599,599,599,599,239,239,239,239,242,242,239,599,599,242,729,248,128,128,128,128,301,248,301,301,301,301,239,260,260,260,260,278,265,266,265,265,265,278,278,271,278,271,271,265,265,266,266,271,266,271,371,281,271,371,281,278,278,281,278,278,281,278,281,281,278,349,281,349,289,289,289,289,289,289,293,289,293,293,299,299,248,248,299,299,301,301,301,299,310,299,299,293,293,310,310,310,315,315,315,315,310,310,315,293,322,322,322,322,322,322,322,325,325,334,325,315,334,333,333,333,333,334,334,334,340,325,325,340,357,301,301,729,729,333,466,466,349,289,289,289,349,349,355,355,355,357,357,357,322,322,357,349,281,281,355,355,401,401,371,369,369,371,369,369,371,371,369,369,373,373,266,266,266,369,379,373,266,373,373,379,379,379,379,379,379,379,379,387,379,379,387,379,387,387,379,379,387,387,379,379,379,379,387,379,401,401,379,379,379,397,379,397,401,401,397,397,397,397,397,414,414,401,402,402,402,355,357,411,357,411,411,433,411,411,414,411,411,402,402,402,397,402,433,411,414,414,414,510,510,414,334,433,357,340,340,340,430,340,340,340,428,334,428,428,428,430,430,430,433,433,430,430,502,502,433,430,430,430,502,501,430,501,501,428,501,501,481,481,481,501,501,501,430,502,510,510,333,334,333,466,333,466,466,466,466,466,466,466,481,334,481,646,475,475,475,475,646,475,475,646,481,481,502,481,502,646,487,487,487,502,504,502,504,504,525,525,492,492,487,487,646,492,492,510,510,502,502,502,501,501,502,502,502,502,504,504,504,504,526,504,525,504,502,526,526,555,414,526,414,510,510,414,526,526,526,397,397,379,379,526,379,526,514,526,514,526,526,532,532,532,514,514,514,521,521,521,521,521,521,521,555,555,555,526,525,526,555,555,555,532,532,555,532,555,533,533,545,533,555,555,525,525,553,533,533,545,545,545,545,545,545,564,545,553,553,553,492,492,553,555,555,533,545,564,565,533,555,555,565,565,565,564,564,564,565,566,566,564,555,555,555,565,555,555,566,565,566,566,570,570,570,570,570,576,566,576,576,576,578,578,578,583,583,583,576,583,576,576,576,694,578,589,589,578,583,589,589,589,729,729,729,729,242,598,598,598,598,598,599,599,692,598,598,598,242,608,608,608,630,630,729,729,729,729,729,242,242,729,619,630,630,630,619,619,619,608,628,608,628,628,628,628,628,630,630,644,639,630,639,639,639,639,639,644,644,644,644,644,644,646,646,628,628,649,650,650,649,649,649,660,649,660,660,650,660,678,660,660,650,692,692,692,692,692,650,678,678,678,678,681,681,681,682,681,678,681,682,681,682,682,686,686,686,692,686,682,686,686,686,686,692,694,694,694,694,694,694,699,699,699,699,699,701,701,701,707,711,707,701,704,701,701,704,707,707,707,707,704,704,704,711,701,724,724,711,711,711,711,711,724,711,711,724,724,724,724,724,724,724,724,724,373,373,707,694,729,242,650,217,36,25,217,141,289,281,711,701,599,101,19,41,56,179,19,686,711,692]\"\n",
    "#     }\n",
    "\n",
    "#     return json.dumps(test_response)"
   ]
  },
  {
   "cell_type": "code",
   "execution_count": 16,
   "metadata": {},
   "outputs": [
    {
     "name": "stdout",
     "output_type": "stream",
     "text": [
      "{\"max_p\": 105, \"labels\": [5, 5, 5, 5, 5, 14, 14, 14, 14, 14, 14, 5, 14, 14, 5, 20, 20, 20, 20, 20, 26, 20, 26, 26, 26, 26, 35, 26, 35, 35, 35, 35, 35, 35, 35, 162, 41, 41, 41, 20, 41, 41, 43, 41, 41, 43, 43, 52, 52, 52, 52, 52, 52, 52, 52, 43, 43, 43, 43, 43, 995, 995, 995, 995, 995, 995, 43, 43, 43, 75, 26, 75, 75, 75, 75, 75, 43, 43, 84, 995, 84, 995, 84, 84, 108, 995, 995, 995, 95, 95, 95, 95, 95, 271, 95, 95, 84, 249, 95, 249, 249, 271, 271, 108, 108, 108, 84, 108, 84, 249, 108, 108, 108, 122, 75, 75, 122, 122, 108, 122, 122, 122, 122, 147, 122, 147, 147, 135, 26, 135, 26, 75, 122, 147, 122, 122, 135, 135, 135, 143, 143, 143, 143, 147, 143, 147, 147, 147, 147, 143, 143, 135, 175, 14, 35, 162, 162, 162, 175, 175, 162, 162, 135, 162, 162, 162, 14, 175, 162, 176, 176, 176, 176, 175, 175, 176, 176, 175, 185, 185, 185, 185, 185, 185, 240, 240, 185, 205, 175, 175, 205, 208, 176, 208, 208, 176, 208, 208, 176, 205, 240, 240, 205, 205, 205, 205, 208, 208, 208, 341, 341, 341, 341, 208, 234, 185, 234, 143, 234, 227, 147, 147, 122, 227, 227, 227, 227, 227, 234, 234, 227, 227, 234, 234, 234, 240, 240, 240, 227, 240, 240, 338, 240, 240, 338, 338, 338, 338, 249, 250, 262, 262, 262, 249, 249, 273, 250, 250, 262, 262, 262, 262, 262, 250, 273, 273, 250, 322, 273, 250, 271, 271, 273, 295, 273, 271, 95, 281, 281, 95, 281, -3, 281, 95, 95, 281, 281, 281, 295, 273, 295, 295, 271, 295, 295, 281, 281, 295, 295, -3, -3, -3, 308, 295, 308, -3, -3, 308, 308, 308, 308, 834, 308, 322, 322, 308, 322, 322, 322, 834, 834, 322, 322, 322, 834, 834, 834, 834, 834, 205, 345, 345, 345, 338, 345, 345, 834, 834, 338, 345, 341, 341, 205, 205, 205, 345, 341, 341, 408, 408, 345, 345, 357, 357, 357, 357, 357, 364, 364, 364, 364, 364, 357, 364, 357, 357, 357, 376, 364, 364, 364, 490, 376, 376, 376, 376, 387, 387, 387, 387, 387, 387, 387, 376, 387, 376, 387, 387, 387, 396, 387, 396, 396, 396, 396, 396, 396, 402, 396, 402, 402, 402, 402, 410, 410, 341, 408, 408, 408, 408, 408, 408, 408, 410, 410, 402, 429, 402, 410, 429, 408, 443, 443, 410, 443, 410, 410, 429, 429, 429, 429, 462, 429, 462, 462, 462, 429, 429, 443, 443, 443, 443, 443, 443, 627, 627, 589, 443, 443, 580, 580, 580, 580, 462, 408, 408, 408, 827, 627, 627, 627, 462, 402, 402, 402, 462, 462, 475, 475, 475, 475, 475, 475, 475, 475, 462, 396, 538, 396, 475, 538, 538, 538, 538, 490, 490, 538, 509, 490, 490, 538, 509, 509, 987, 987, 987, 490, 490, 490, 987, 987, 987, 987, 987, 987, 987, 987, 509, 509, 509, 509, 509, 519, 509, 519, 519, 519, 519, 519, 527, 519, 527, 527, 519, 527, 519, 527, 527, 527, 532, 532, 532, 527, 527, 532, 532, 538, 538, 532, 697, 697, 538, 697, 697, 697, 697, 538, 564, 564, 564, 564, 475, 564, 571, 475, 571, 571, 564, 564, 567, 567, 567, 567, 564, 564, 564, 567, 571, 567, 567, 571, 571, 571, 676, 567, 589, 571, 475, 597, 580, 597, 580, 597, 580, 580, 589, 589, 589, 589, 589, 597, 597, 597, 597, 597, 597, 597, 607, 607, 571, 607, 597, 607, 607, 607, 607, 607, 607, 613, 613, 613, 613, 613, 613, 658, 658, 658, 607, 676, 571, 571, 627, 589, 627, 627, 627, 627, 631, 631, 631, 631, 631, 627, 631, 613, 631, 631, 875, 875, 875, 631, 631, 875, 875, 631, 613, 613, 658, -3, -3, -3, 875, -3, -3, -3, -3, 658, 658, 686, 686, 686, 748, 748, 748, 875, 875, 748, 748, 676, 676, 676, 676, 658, 658, 658, 690, 676, 690, 690, 676, 690, 690, 690, 690, 658, 686, 690, 690, 686, 690, 699, 697, 697, 697, 676, 676, 697, 699, 699, 699, 532, 532, 699, 708, 699, 708, 699, 708, 708, 708, 735, 735, 699, 699, 735, 735, 723, 723, 708, 723, 723, 723, 723, 789, 723, 699, 690, 699, 739, 686, 739, 739, 739, 739, 735, 735, 773, 773, 773, 752, 739, 752, 752, 773, 789, 686, 748, 748, 752, 748, 752, 752, 771, 771, 771, 752, 771, 771, -3, 748, -3, 748, -3, -3, 773, 773, 773, 752, 771, 773, 771, 773, 773, 773, 780, 771, 780, 780, 780, 780, 780, 780, 780, 789, 789, 789, 789, 789, 789, 789, 789, 780, 797, 797, 789, 797, 806, 806, 797, 797, 812, 812, 797, 806, 806, 806, 806, 812, 812, 806, 812, 812, 812, 944, 812, 806, 823, 823, 823, 812, 823, 823, 823, 827, 827, 827, 827, 833, 833, 833, 833, 833, 833, 834, 833, 928, 928, 833, 833, 992, 992, 992, 992, 865, 827, 853, 827, 853, 853, 853, 833, 833, 853, 853, 853, 853, 865, 865, 865, 865, 992, 992, 992, 992, 865, 865, 865, 889, 865, 865, 884, 884, 865, 884, 875, 875, 875, 884, 884, 884, 884, 884, 884, 884, 884, 875, 889, 889, 889, 889, 889, 889, 889, 889, -3, 884, -3, -3, -3, -3, -3, -3, -3, 911, 911, 911, 911, 911, 911, 911, 911, 911, 911, 928, 923, 923, 923, 923, 923, 923, 923, 923, 923, 926, 926, 926, 926, 928, 928, 928, 926, 926, 928, 928, 926, 928, 944, 944, 944, 944, 944, 944, 944, 944, 944, 961, 961, 961, 961, 961, 959, 959, 959, 959, 959, 959, 961, 959, 959, 959, 961, 961, 961, 959, 961, 961, 961, 975, 975, 961, 979, 979, 975, 975, 975, 975, 979, 975, 979, 979, 975, 979, 979, 979, 979, 979, 987, 987, 959, 944, 827, 833, 911, -3, 995, 20, -3, 122, 396, 538, 959, 961, 834, 14, 20, 52, 95, 262, 14, 928, 961, 928]}\n"
     ]
    }
   ],
   "source": [
    "# function_response = get_test_response(location=dataset)\n",
    "# print(function_response)\n",
    "endpoint = \"http://localhost:8000/api/endpoint\"\n",
    "function_response = requests.post(endpoint, json = parameters)\n",
    "if function_response.status_code == 200:\n",
    "    result = function_response.json()\n",
    "else:\n",
    "    print(\"Request failed with response code: \", function_response.status_code)\n",
    "print(result)"
   ]
  },
  {
   "cell_type": "code",
   "execution_count": 32,
   "metadata": {},
   "outputs": [],
   "source": [
    "# second_response = openai.ChatCompletion.create(\n",
    "#     model=\"gpt-3.5-turbo-0613\",\n",
    "#     messages=[\n",
    "#         {\"role\": \"user\", \"content\": user_query},\n",
    "#         ai_response_message,\n",
    "#         {\n",
    "#             \"role\": \"function\",\n",
    "#             \"name\": \"emp\",\n",
    "#             \"content\": function_response,\n",
    "#         },\n",
    "#     ],\n",
    "# )"
   ]
  },
  {
   "cell_type": "code",
   "execution_count": 17,
   "metadata": {},
   "outputs": [],
   "source": [
    "evaluate_function_response = openai.ChatCompletion.create(\n",
    "        model=\"gpt-3.5-turbo-0613\",\n",
    "        \n",
    "        # This is the chat message from the user\n",
    "        messages= chat_history + [{\"role\": \"user\", \"content\": \"The function returns : \" + function_response.json() + \"if max_p shows maximum number of regions formed for the given query. Tell me the maximum number of regions that satisfy the userquery\"}],\n",
    "    \n",
    "    )"
   ]
  },
  {
   "cell_type": "code",
   "execution_count": 18,
   "metadata": {},
   "outputs": [
    {
     "name": "stdout",
     "output_type": "stream",
     "text": [
      "The maximum number of regions that satisfy the user query is 105.\n"
     ]
    }
   ],
   "source": [
    "print (evaluate_function_response['choices'][0]['message']['content'])"
   ]
  }
 ],
 "metadata": {
  "kernelspec": {
   "display_name": "gpt-pyneapple-sI-tQXuv-py3.9",
   "language": "python",
   "name": "python3"
  },
  "language_info": {
   "codemirror_mode": {
    "name": "ipython",
    "version": 3
   },
   "file_extension": ".py",
   "mimetype": "text/x-python",
   "name": "python",
   "nbconvert_exporter": "python",
   "pygments_lexer": "ipython3",
   "version": "3.9.0"
  },
  "orig_nbformat": 4
 },
 "nbformat": 4,
 "nbformat_minor": 2
}
